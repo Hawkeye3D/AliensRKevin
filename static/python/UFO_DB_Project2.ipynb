{
 "cells": [
  {
   "cell_type": "code",
   "execution_count": 17,
   "metadata": {},
   "outputs": [],
   "source": [
    "import pandas as pd\n",
    "import sqlalchemy\n",
    "import pprint  as pp\n",
    "from sqlalchemy.ext.automap import automap_base\n",
    "from sqlalchemy.orm import Session\n",
    "from sqlalchemy import create_engine\n",
    "from flask import Flask, jsonify, render_template\n",
    "from flask_sqlalchemy import SQLAlchemy\n",
    "\n",
    "from sqlalchemy import create_engine\n",
    "import csv, json\n",
    "import gzip\n",
    "import shutil\n",
    "import os\n",
    "from geojson import Feature, FeatureCollection, Point\n",
    "listofshapes=[]\n",
    "listofstates=[]"
   ]
  },
  {
   "cell_type": "code",
   "execution_count": 3,
   "metadata": {},
   "outputs": [],
   "source": [
    "engine =create_engine('sqlite:///UFO_db')\n",
    " "
   ]
  },
  {
   "cell_type": "markdown",
   "metadata": {},
   "source": [
    "# Worker Routine to compress orginal data file so it can be easily githubbed"
   ]
  },
  {
   "cell_type": "code",
   "execution_count": 11,
   "metadata": {},
   "outputs": [],
   "source": [
    "Def InitFile1():\n",
    "    if not os.path.isfile(nuforc_reports.gz):\n",
    "    with open('c:\\\\users\\\\kevin\\\\desktop\\\\nuforc_reports.csv','rb') as f_in:\n",
    "\n",
    "        with gzip.open('nuforc_reports.gz','wb') as f_out:\n",
    "                  shutil.copyfileobj(f_in ,f_out)"
   ]
  },
  {
   "cell_type": "markdown",
   "metadata": {},
   "source": [
    "## Uncompress Base Data\n",
    "Only use the gzip.open for dealing with the compressed file\n",
    "Otherwise, use the standard open for an uncompressed file"
   ]
  },
  {
   "cell_type": "code",
   "execution_count": 12,
   "metadata": {},
   "outputs": [],
   "source": [
    "\n",
    "with gzip.open('nuforc_reports.gz','rb') as f_in: \n",
    "    filecontent= f_in.read()\n",
    "    with open('nuforc_reports.csv','wb') as f_out:\n",
    "        f_out.write(filecontent)"
   ]
  },
  {
   "cell_type": "code",
   "execution_count": 13,
   "metadata": {},
   "outputs": [
    {
     "data": {
      "text/html": [
       "<div>\n",
       "<style scoped>\n",
       "    .dataframe tbody tr th:only-of-type {\n",
       "        vertical-align: middle;\n",
       "    }\n",
       "\n",
       "    .dataframe tbody tr th {\n",
       "        vertical-align: top;\n",
       "    }\n",
       "\n",
       "    .dataframe thead th {\n",
       "        text-align: right;\n",
       "    }\n",
       "</style>\n",
       "<table border=\"1\" class=\"dataframe\">\n",
       "  <thead>\n",
       "    <tr style=\"text-align: right;\">\n",
       "      <th></th>\n",
       "      <th>summary</th>\n",
       "      <th>city</th>\n",
       "      <th>state</th>\n",
       "      <th>date_time</th>\n",
       "      <th>shape</th>\n",
       "      <th>duration</th>\n",
       "      <th>stats</th>\n",
       "      <th>report_link</th>\n",
       "      <th>text</th>\n",
       "      <th>posted</th>\n",
       "      <th>city_latitude</th>\n",
       "      <th>city_longitude</th>\n",
       "    </tr>\n",
       "  </thead>\n",
       "  <tbody>\n",
       "    <tr>\n",
       "      <th>2</th>\n",
       "      <td>Green orb shot out of white light  ((NUFORC No...</td>\n",
       "      <td>San Antonio</td>\n",
       "      <td>TX</td>\n",
       "      <td>2017-01-25T20:45:00</td>\n",
       "      <td>light</td>\n",
       "      <td>90 minutes</td>\n",
       "      <td>Occurred : 1/25/2017 20:45  (Entered as : 01/2...</td>\n",
       "      <td>http://www.nuforc.org/webreports/132/S132305.html</td>\n",
       "      <td>Green orb shot out of white light I saw a whit...</td>\n",
       "      <td>2017-01-26T00:00:00</td>\n",
       "      <td>29.488866</td>\n",
       "      <td>-98.475240</td>\n",
       "    </tr>\n",
       "    <tr>\n",
       "      <th>3</th>\n",
       "      <td>Saw three circular orange lights traveling sou...</td>\n",
       "      <td>Port Saint Lucie</td>\n",
       "      <td>FL</td>\n",
       "      <td>2017-02-24T20:45:00</td>\n",
       "      <td>circle</td>\n",
       "      <td>5 minutes</td>\n",
       "      <td>Occurred : 2/24/2017 20:45  (Entered as : 02/2...</td>\n",
       "      <td>http://www.nuforc.org/webreports/132/S132890.html</td>\n",
       "      <td>Saw three circular orange lights traveling sou...</td>\n",
       "      <td>2017-03-10T00:00:00</td>\n",
       "      <td>27.285686</td>\n",
       "      <td>-80.363444</td>\n",
       "    </tr>\n",
       "    <tr>\n",
       "      <th>4</th>\n",
       "      <td>Light moving slowly thru the sky towards the W...</td>\n",
       "      <td>Whitefish</td>\n",
       "      <td>MT</td>\n",
       "      <td>2017-02-22T21:00:00</td>\n",
       "      <td>light</td>\n",
       "      <td>15 minutes</td>\n",
       "      <td>Occurred : 2/22/2017 21:00  (Entered as : 02/2...</td>\n",
       "      <td>http://www.nuforc.org/webreports/132/S132774.html</td>\n",
       "      <td>Light moving slowly thru the sky towards the w...</td>\n",
       "      <td>2017-03-10T00:00:00</td>\n",
       "      <td>48.411100</td>\n",
       "      <td>-114.337600</td>\n",
       "    </tr>\n",
       "    <tr>\n",
       "      <th>6</th>\n",
       "      <td>((HOAX??))  Loud boom heard.</td>\n",
       "      <td>Duxbury</td>\n",
       "      <td>MA</td>\n",
       "      <td>2017-01-31T06:00:00</td>\n",
       "      <td>unknown</td>\n",
       "      <td>2</td>\n",
       "      <td>Occurred : 1/31/2017 06:00  (Entered as : 01/3...</td>\n",
       "      <td>http://www.nuforc.org/webreports/132/S132401.html</td>\n",
       "      <td>Loud boom heard. ((NUFORC Note:  Witness elect...</td>\n",
       "      <td>2017-02-03T00:00:00</td>\n",
       "      <td>42.049490</td>\n",
       "      <td>-70.693082</td>\n",
       "    </tr>\n",
       "    <tr>\n",
       "      <th>7</th>\n",
       "      <td>Two erratic bright white lights seen in Southe...</td>\n",
       "      <td>Studio City</td>\n",
       "      <td>CA</td>\n",
       "      <td>2017-01-29T10:34:00</td>\n",
       "      <td>light</td>\n",
       "      <td>3 minutes</td>\n",
       "      <td>Occurred : 1/29/2017 10:34  (Entered as : 01/2...</td>\n",
       "      <td>http://www.nuforc.org/webreports/132/S132369.html</td>\n",
       "      <td>Two erratic bright white lights seen in Southe...</td>\n",
       "      <td>2017-02-03T00:00:00</td>\n",
       "      <td>34.138265</td>\n",
       "      <td>-118.392057</td>\n",
       "    </tr>\n",
       "  </tbody>\n",
       "</table>\n",
       "</div>"
      ],
      "text/plain": [
       "                                             summary              city state  \\\n",
       "2  Green orb shot out of white light  ((NUFORC No...       San Antonio    TX   \n",
       "3  Saw three circular orange lights traveling sou...  Port Saint Lucie    FL   \n",
       "4  Light moving slowly thru the sky towards the W...         Whitefish    MT   \n",
       "6                       ((HOAX??))  Loud boom heard.           Duxbury    MA   \n",
       "7  Two erratic bright white lights seen in Southe...       Studio City    CA   \n",
       "\n",
       "             date_time    shape    duration  \\\n",
       "2  2017-01-25T20:45:00    light  90 minutes   \n",
       "3  2017-02-24T20:45:00   circle   5 minutes   \n",
       "4  2017-02-22T21:00:00    light  15 minutes   \n",
       "6  2017-01-31T06:00:00  unknown           2   \n",
       "7  2017-01-29T10:34:00    light   3 minutes   \n",
       "\n",
       "                                               stats  \\\n",
       "2  Occurred : 1/25/2017 20:45  (Entered as : 01/2...   \n",
       "3  Occurred : 2/24/2017 20:45  (Entered as : 02/2...   \n",
       "4  Occurred : 2/22/2017 21:00  (Entered as : 02/2...   \n",
       "6  Occurred : 1/31/2017 06:00  (Entered as : 01/3...   \n",
       "7  Occurred : 1/29/2017 10:34  (Entered as : 01/2...   \n",
       "\n",
       "                                         report_link  \\\n",
       "2  http://www.nuforc.org/webreports/132/S132305.html   \n",
       "3  http://www.nuforc.org/webreports/132/S132890.html   \n",
       "4  http://www.nuforc.org/webreports/132/S132774.html   \n",
       "6  http://www.nuforc.org/webreports/132/S132401.html   \n",
       "7  http://www.nuforc.org/webreports/132/S132369.html   \n",
       "\n",
       "                                                text               posted  \\\n",
       "2  Green orb shot out of white light I saw a whit...  2017-01-26T00:00:00   \n",
       "3  Saw three circular orange lights traveling sou...  2017-03-10T00:00:00   \n",
       "4  Light moving slowly thru the sky towards the w...  2017-03-10T00:00:00   \n",
       "6  Loud boom heard. ((NUFORC Note:  Witness elect...  2017-02-03T00:00:00   \n",
       "7  Two erratic bright white lights seen in Southe...  2017-02-03T00:00:00   \n",
       "\n",
       "   city_latitude  city_longitude  \n",
       "2      29.488866      -98.475240  \n",
       "3      27.285686      -80.363444  \n",
       "4      48.411100     -114.337600  \n",
       "6      42.049490      -70.693082  \n",
       "7      34.138265     -118.392057  "
      ]
     },
     "execution_count": 13,
     "metadata": {},
     "output_type": "execute_result"
    }
   ],
   "source": [
    "df = pd.read_csv('nuforc_reports.csv')\n",
    "dfu=df.dropna()\n",
    " \n",
    "# dfu.to_sql(\"UFO_DB\",con=engine, if_exists='replace')\n",
    "dfu.head()"
   ]
  },
  {
   "cell_type": "code",
   "execution_count": 14,
   "metadata": {},
   "outputs": [
    {
     "data": {
      "text/plain": [
       "83124"
      ]
     },
     "execution_count": 14,
     "metadata": {},
     "output_type": "execute_result"
    }
   ],
   "source": [
    "len(dfu)"
   ]
  },
  {
   "cell_type": "code",
   "execution_count": 5,
   "metadata": {},
   "outputs": [
    {
     "name": "stdout",
     "output_type": "stream",
     "text": [
      "       city_latitude  city_longitude\n",
      "count   83124.000000    83124.000000\n",
      "mean       38.679068      -95.365643\n",
      "std         5.766409       18.341659\n",
      "min       -32.055500     -170.494000\n",
      "25%        34.179411     -114.290564\n",
      "50%        39.174503      -89.406950\n",
      "75%        42.315149      -80.420518\n",
      "max        64.845276      130.850580\n"
     ]
    }
   ],
   "source": [
    "print(dfu.describe())\n"
   ]
  },
  {
   "cell_type": "code",
   "execution_count": null,
   "metadata": {},
   "outputs": [],
   "source": [
    "\n"
   ]
  },
  {
   "cell_type": "code",
   "execution_count": 19,
   "metadata": {},
   "outputs": [
    {
     "data": {
      "text/html": [
       "<div>\n",
       "<style scoped>\n",
       "    .dataframe tbody tr th:only-of-type {\n",
       "        vertical-align: middle;\n",
       "    }\n",
       "\n",
       "    .dataframe tbody tr th {\n",
       "        vertical-align: top;\n",
       "    }\n",
       "\n",
       "    .dataframe thead th {\n",
       "        text-align: right;\n",
       "    }\n",
       "</style>\n",
       "<table border=\"1\" class=\"dataframe\">\n",
       "  <thead>\n",
       "    <tr style=\"text-align: right;\">\n",
       "      <th></th>\n",
       "      <th>text</th>\n",
       "    </tr>\n",
       "  </thead>\n",
       "  <tbody>\n",
       "    <tr>\n",
       "      <th>23905</th>\n",
       "      <td>Possible contact with Visitor as a child When ...</td>\n",
       "    </tr>\n",
       "    <tr>\n",
       "      <th>3592</th>\n",
       "      <td>Five bright white, small balls jumped out of t...</td>\n",
       "    </tr>\n",
       "    <tr>\n",
       "      <th>4344</th>\n",
       "      <td>1 and 2 and 3 cloud type objects immediately a...</td>\n",
       "    </tr>\n",
       "    <tr>\n",
       "      <th>81402</th>\n",
       "      <td>Flat black color, 6-legged, toy jack shaped, b...</td>\n",
       "    </tr>\n",
       "    <tr>\n",
       "      <th>8907</th>\n",
       "      <td>Sphere's appear in the room within touching di...</td>\n",
       "    </tr>\n",
       "  </tbody>\n",
       "</table>\n",
       "</div>"
      ],
      "text/plain": [
       "                                                    text\n",
       "23905  Possible contact with Visitor as a child When ...\n",
       "3592   Five bright white, small balls jumped out of t...\n",
       "4344   1 and 2 and 3 cloud type objects immediately a...\n",
       "81402  Flat black color, 6-legged, toy jack shaped, b...\n",
       "8907   Sphere's appear in the room within touching di..."
      ]
     },
     "execution_count": 19,
     "metadata": {},
     "output_type": "execute_result"
    }
   ],
   "source": [
    "if not os.path.isfile('UFO_Narratives.csv'):\n",
    "    dfus = dfu.sort_values(by=['date_time'],ascending=True)\n",
    "    dfc = dfus[['text']]\n",
    "    dfc.to_csv('UFO_Narratives.csv')\n",
    "\n",
    "    if not os.path.isfile('UFO_Narratives.gz'):\n",
    "        with open('UFO_Narratives.csv','rb') as f_in:\n",
    "\n",
    "            with gzip.open('UFO_Narratives.gz','wb') as f_out:\n",
    "                      shutil.copyfileobj(f_in ,f_out)\n",
    "\n",
    "\n",
    "\n",
    "\n",
    "#dfc.reset_index( inplace=True)\n",
    "dfc.head()"
   ]
  },
  {
   "cell_type": "code",
   "execution_count": 7,
   "metadata": {},
   "outputs": [],
   "source": [
    "#test dictionary\n",
    "from pandas import DataFrame\n",
    "\n",
    "# '\\dfc.set_index('index').T.to_dict('list') \n",
    "#dfc.reset_index('index', inplace=True)"
   ]
  },
  {
   "cell_type": "code",
   "execution_count": 8,
   "metadata": {},
   "outputs": [],
   "source": [
    " \n",
    "# dfc.loc[1]"
   ]
  },
  {
   "cell_type": "code",
   "execution_count": 18,
   "metadata": {},
   "outputs": [
    {
     "data": {
      "text/html": [
       "<div>\n",
       "<style scoped>\n",
       "    .dataframe tbody tr th:only-of-type {\n",
       "        vertical-align: middle;\n",
       "    }\n",
       "\n",
       "    .dataframe tbody tr th {\n",
       "        vertical-align: top;\n",
       "    }\n",
       "\n",
       "    .dataframe thead th {\n",
       "        text-align: right;\n",
       "    }\n",
       "</style>\n",
       "<table border=\"1\" class=\"dataframe\">\n",
       "  <thead>\n",
       "    <tr style=\"text-align: right;\">\n",
       "      <th></th>\n",
       "      <th>index</th>\n",
       "      <th>city</th>\n",
       "      <th>state</th>\n",
       "      <th>date_time</th>\n",
       "      <th>shape</th>\n",
       "      <th>duration</th>\n",
       "      <th>city_latitude</th>\n",
       "      <th>city_longitude</th>\n",
       "    </tr>\n",
       "  </thead>\n",
       "  <tbody>\n",
       "    <tr>\n",
       "      <th>0</th>\n",
       "      <td>23905</td>\n",
       "      <td>Greensburg</td>\n",
       "      <td>PA</td>\n",
       "      <td>1969-01-01T10:00:00</td>\n",
       "      <td>unknown</td>\n",
       "      <td>unknown</td>\n",
       "      <td>40.335696</td>\n",
       "      <td>-79.550268</td>\n",
       "    </tr>\n",
       "    <tr>\n",
       "      <th>1</th>\n",
       "      <td>3592</td>\n",
       "      <td>Farmerville</td>\n",
       "      <td>LA</td>\n",
       "      <td>1969-01-01T20:00:00</td>\n",
       "      <td>other</td>\n",
       "      <td>2 minutes</td>\n",
       "      <td>32.773800</td>\n",
       "      <td>-92.340900</td>\n",
       "    </tr>\n",
       "    <tr>\n",
       "      <th>2</th>\n",
       "      <td>4344</td>\n",
       "      <td>Naples</td>\n",
       "      <td>FL</td>\n",
       "      <td>1969-01-04T23:30:00</td>\n",
       "      <td>oval</td>\n",
       "      <td>???</td>\n",
       "      <td>26.193182</td>\n",
       "      <td>-81.737030</td>\n",
       "    </tr>\n",
       "    <tr>\n",
       "      <th>3</th>\n",
       "      <td>81402</td>\n",
       "      <td>Pittsburgh</td>\n",
       "      <td>PA</td>\n",
       "      <td>1969-01-08T21:30:00</td>\n",
       "      <td>other</td>\n",
       "      <td>5 minutes</td>\n",
       "      <td>40.443092</td>\n",
       "      <td>-79.974242</td>\n",
       "    </tr>\n",
       "    <tr>\n",
       "      <th>4</th>\n",
       "      <td>8907</td>\n",
       "      <td>Miami</td>\n",
       "      <td>FL</td>\n",
       "      <td>1969-01-15T23:00:00</td>\n",
       "      <td>sphere</td>\n",
       "      <td>15 Min. Plus</td>\n",
       "      <td>25.774143</td>\n",
       "      <td>-80.289519</td>\n",
       "    </tr>\n",
       "  </tbody>\n",
       "</table>\n",
       "</div>"
      ],
      "text/plain": [
       "   index         city state            date_time    shape      duration  \\\n",
       "0  23905   Greensburg    PA  1969-01-01T10:00:00  unknown       unknown   \n",
       "1   3592  Farmerville    LA  1969-01-01T20:00:00    other     2 minutes   \n",
       "2   4344       Naples    FL  1969-01-04T23:30:00     oval           ???   \n",
       "3  81402   Pittsburgh    PA  1969-01-08T21:30:00    other     5 minutes   \n",
       "4   8907        Miami    FL  1969-01-15T23:00:00   sphere  15 Min. Plus   \n",
       "\n",
       "   city_latitude  city_longitude  \n",
       "0      40.335696      -79.550268  \n",
       "1      32.773800      -92.340900  \n",
       "2      26.193182      -81.737030  \n",
       "3      40.443092      -79.974242  \n",
       "4      25.774143      -80.289519  "
      ]
     },
     "execution_count": 18,
     "metadata": {},
     "output_type": "execute_result"
    }
   ],
   "source": [
    "droplist=['summary','text','report_link','posted','stats']\n",
    "dfufogeo=dfus.drop(droplist,axis=1)\n",
    "dfufogeo.reset_index(inplace=True) #MAKE THE INDEX A COLUMN NAME\n",
    "dfufogeo.to_csv(r'ReducedUFOData.csv')\n",
    "dfufogeo.to_sql(\"UFO_DB\",con=engine, if_exists='replace') ##make database\n",
    " \n",
    "dfufogeo.head()"
   ]
  },
  {
   "cell_type": "code",
   "execution_count": 21,
   "metadata": {},
   "outputs": [
    {
     "ename": "NameError",
     "evalue": "name 'dfufogeo' is not defined",
     "output_type": "error",
     "traceback": [
      "\u001b[1;31m---------------------------------------------------------------------------\u001b[0m",
      "\u001b[1;31mNameError\u001b[0m                                 Traceback (most recent call last)",
      "\u001b[1;32m<ipython-input-21-7cb4c824e8e8>\u001b[0m in \u001b[0;36m<module>\u001b[1;34m\u001b[0m\n\u001b[1;32m----> 1\u001b[1;33m \u001b[0mout\u001b[0m \u001b[1;33m=\u001b[0m \u001b[0mdfufogeo\u001b[0m\u001b[1;33m.\u001b[0m\u001b[0mto_json\u001b[0m\u001b[1;33m(\u001b[0m\u001b[0morient\u001b[0m \u001b[1;33m=\u001b[0m\u001b[1;34m'records'\u001b[0m\u001b[1;33m)\u001b[0m\u001b[1;33m\u001b[0m\u001b[1;33m\u001b[0m\u001b[0m\n\u001b[0m\u001b[0;32m      2\u001b[0m \u001b[1;32mwith\u001b[0m \u001b[0mopen\u001b[0m \u001b[1;33m(\u001b[0m\u001b[1;34m'UFOjson.json'\u001b[0m\u001b[1;33m,\u001b[0m\u001b[1;34m'w'\u001b[0m\u001b[1;33m)\u001b[0m \u001b[1;32mas\u001b[0m \u001b[0mf\u001b[0m\u001b[1;33m:\u001b[0m\u001b[1;33m\u001b[0m\u001b[1;33m\u001b[0m\u001b[0m\n\u001b[0;32m      3\u001b[0m     \u001b[0mf\u001b[0m\u001b[1;33m.\u001b[0m\u001b[0mwrite\u001b[0m\u001b[1;33m(\u001b[0m\u001b[0mout\u001b[0m\u001b[1;33m)\u001b[0m\u001b[1;33m\u001b[0m\u001b[1;33m\u001b[0m\u001b[0m\n\u001b[0;32m      4\u001b[0m \u001b[0mdfc\u001b[0m\u001b[1;33m.\u001b[0m\u001b[0mloc\u001b[0m\u001b[1;33m[\u001b[0m\u001b[1;36m23905\u001b[0m\u001b[1;33m]\u001b[0m\u001b[1;33m[\u001b[0m\u001b[1;34m'text'\u001b[0m\u001b[1;33m]\u001b[0m\u001b[1;33m\u001b[0m\u001b[1;33m\u001b[0m\u001b[0m\n\u001b[0;32m      5\u001b[0m \u001b[1;33m\u001b[0m\u001b[0m\n",
      "\u001b[1;31mNameError\u001b[0m: name 'dfufogeo' is not defined"
     ]
    }
   ],
   "source": [
    "\n",
    "out = dfufogeo.to_json(orient ='records')\n",
    "with open ('UFOjson.json','w') as f:\n",
    "    f.write(out)\n",
    "dfc.loc[23905]['text']\n",
    " "
   ]
  },
  {
   "cell_type": "code",
   "execution_count": 22,
   "metadata": {},
   "outputs": [
    {
     "data": {
      "text/plain": [
       "'Possible contact with Visitor as a child When I was 2 to 4 years old (1968-1970), my mother wrote down in a journal that I had a \"pretend friend\" whose name was Arjid.  I don\\'t remember this \"pretend friend\" at all. However, a few months back on a whim I looked up the word on the internet. It turned up in one language only, called Manx, meaning \"Highness.\"  I had no idea what Manx was or where it was spoken. I did some research and found out it is an extinct Gaelic language once spoken on the Isle of Mann off the coast of England.  In one of Whitley Strieber\\'s books, Transformation, that there was a possible connection mentioned between the Gaelic languages and the Visitors.  I suspect that maybe I was \"visited\" at a very young age in Greensburg.  There was one other incident, maybe around 1970 or 1971, where I thought I saw a purplish silhouette of a man (or something) standing outside my second story window. He (or it) would have been standing on our sun parlor roof. Anyway, it scared the shit out of me. But I have always passed that off as a hallucination, or maybe even an after image from rubbing my eyes. It also could have been my older sister playing a prank on me. ((NUFORC Note:  Date is approximate.  PD))'"
      ]
     },
     "execution_count": 22,
     "metadata": {},
     "output_type": "execute_result"
    }
   ],
   "source": [
    "# df1 = pd.read_csv('uscitiesv1.5.csv')\n",
    "# df1.to_sql(\"US_Cities\",con=engine,if_exists='replace')\n",
    "# ziplist=['city_ascii','state_name','county_fips','population_proper','population','source','incorporated','timezone','zips','id']\n",
    "# df2=df1.drop(ziplist,axis=1)\n",
    "# df2.tail()\n",
    "\n",
    " \n",
    "dfc.loc[23905]['text']"
   ]
  },
  {
   "cell_type": "code",
   "execution_count": 180,
   "metadata": {},
   "outputs": [],
   "source": [
    "# df3=df2.dropna()\n",
    "# print(df3.describe())"
   ]
  },
  {
   "cell_type": "code",
   "execution_count": 181,
   "metadata": {},
   "outputs": [],
   "source": [
    "listofshapes = dfus['shape'].unique()\n",
    "listofstates = dfus['state'].unique()"
   ]
  },
  {
   "cell_type": "code",
   "execution_count": 182,
   "metadata": {},
   "outputs": [
    {
     "data": {
      "text/plain": [
       "array(['unknown', 'other', 'oval', 'sphere', 'rectangle', 'disk', 'light',\n",
       "       'cross', 'cigar', 'cylinder', 'triangle', 'circle', 'formation',\n",
       "       'changing', 'fireball', 'egg', 'teardrop', 'cone', 'flash',\n",
       "       'diamond', 'chevron', 'delta', 'round', 'changed', 'pyramid',\n",
       "       'crescent', 'flare', 'hexagon'], dtype=object)"
      ]
     },
     "execution_count": 182,
     "metadata": {},
     "output_type": "execute_result"
    }
   ],
   "source": [
    "listofshapes"
   ]
  },
  {
   "cell_type": "code",
   "execution_count": 183,
   "metadata": {},
   "outputs": [],
   "source": [
    "listofsounds=['silent','silence','no sound','buzz','dead silent','soundless','quiet','quietly','loud','thunderous','boom','no noise','no sound']\n",
    "listofcolors=['red','green','blue','white','yellow','purple','bright','dim','dark','black','silouette','shadow','yellow','gold','glimmering','silver','aluminum','shiny','dull','brilliant','flash','pulsing','metallic','blinking']\n",
    "listoffeelings=['scared','scary','terrified','terrifying','frightened','frightening','amazed','amazing','excited','exciting','surprising','surprised','happy','sad','horrified','mortified','confused']\n",
    "listofspeeds=[\"slow\",\"fast\",\"instantly\",\"just gone\",\"disappeared\",\"rapidly\",'poof','great speed','really fast','quickly']\n",
    "listofmotion=[\"straight line\",'right angle','perpendicular','ninty degree', '90 deg','reappear','break up','disappear','appear','was gone','divided']\n",
    "listofsize=['colossal','large','small','distant','close','huge','tiny']\n",
    "listofencounter=['contact','abducted','saw','missing time','taken away']"
   ]
  },
  {
   "cell_type": "code",
   "execution_count": 184,
   "metadata": {},
   "outputs": [],
   "source": [
    " \n",
    "# # nltk.download()"
   ]
  },
  {
   "cell_type": "code",
   "execution_count": null,
   "metadata": {},
   "outputs": [],
   "source": []
  },
  {
   "cell_type": "code",
   "execution_count": 25,
   "metadata": {},
   "outputs": [
    {
     "name": "stdout",
     "output_type": "stream",
     "text": [
      "Five bright white, small balls jumped out of the sky, and bounced across the road. My grandmother used to tell me this story. And it is somewhat ironic that it happened on or around the same date that, I believe it was John Glenn who saw what he described as fire flys all over his space craft when he was orbiting the earth. My grandmother was on her way home from Church when she saw what she described as 4-5 white fireballs floating in the sky. The stopped the vehicle to watch and they balls jumped out of the sky and bounces across the road in front of them. The tried to chase the balls but they were to fast and continued on into the woods.\n"
     ]
    }
   ],
   "source": [
    "textCol = dfus['text'].values.tolist()\n",
    "ndx=23905\n",
    "\n",
    "print(textCol[1])\n",
    "# both =nltk.FreqDist(textCol[ndx] + textCol[ndx+1])\n",
    "# print(both)"
   ]
  },
  {
   "cell_type": "markdown",
   "metadata": {},
   "source": [
    "# Convert Military Data to GeoJson File"
   ]
  },
  {
   "cell_type": "code",
   "execution_count": 186,
   "metadata": {},
   "outputs": [],
   "source": [
    "import json\n",
    "\n",
    "with open('military-bases.geojson' ) as f:\n",
    "    data = json.load(f)"
   ]
  },
  {
   "cell_type": "markdown",
   "metadata": {},
   "source": [
    "## Rip out the name, state, component and the center of the base, and switch Latitude and Longitude for the Leaflet App\n",
    "### Some bases do not have a geo_2d_ point, so I skip those, that is why the if is there."
   ]
  },
  {
   "cell_type": "code",
   "execution_count": 187,
   "metadata": {},
   "outputs": [],
   "source": [
    "\n",
    "def retGeoMilitaryJson(data ):\n",
    "#    script, in_file,out_file =argv\n",
    "   gjson = {\n",
    "       \"type\": \"FeatureCollection\",\n",
    "       \"features\": [\n",
    "           {\"type\": \"Feature\",\n",
    "            \"geometry\": {\n",
    "               \"type\": \"Point\",\n",
    "               \"coordinates\": [d['properties']['geo_point_2d'][1],d['properties']['geo_point_2d'][0]],\n",
    "            },\n",
    "               \"properties\":[ d['properties']['component'],\n",
    "               d['properties']['site_name'] ,d['properties']['state_terr']]\n",
    "            }for d in data  if 'geo_point_2d' in d['properties'].keys()]\n",
    "\n",
    "   }\n",
    "   output = open('militarybases.json','w')\n",
    "   json.dump(gjson,output)\n",
    "\n",
    "# for ft in data['features']:\n",
    "#     if 'geo_point_2d' in ft['properties'].keys():\n",
    "#         print(ft['properties']['component'] )\n",
    "#         print(ft['properties']['site_name'] +',' +ft['properties']['state_terr'])       \n",
    "#         print('['+ str(round(ft['properties']['geo_point_2d'][1],6)) + ',' + str( round(ft['properties']['geo_point_2d'][0],6)) + ']')\n",
    "\n",
    "retGeoMilitaryJson(data['features'])\n"
   ]
  },
  {
   "cell_type": "code",
   "execution_count": null,
   "metadata": {},
   "outputs": [],
   "source": []
  },
  {
   "cell_type": "markdown",
   "metadata": {},
   "source": [
    "## Convert DFUS, The sorted UFO data to GEOJSON\n"
   ]
  },
  {
   "cell_type": "code",
   "execution_count": 190,
   "metadata": {},
   "outputs": [],
   "source": [
    "def retdfUFOJson(data ):\n",
    "#    city\tstate\tdate_time\tshape\tduration\tcity_latitude\tcity_longitude\n",
    "    gjson = {\n",
    "    \"type\": \"FeatureCollection\",\n",
    "    \"features\": [\n",
    "    {\"type\": \"Feature\",\n",
    "    \"geometry\": {\n",
    "    \"type\": \"Point\",\n",
    "    \"coordinates\": [{'longitude':d['city_longitude'] },{'latitude':d['city_latitude']}],\n",
    "    \"properties\": [{'index':d['index']},{'Date_Time':d['date_time']}, {'Shape':d['shape']}, {'Duration':d['duration']}]\n",
    "    }\n",
    "     \n",
    "    }for d in data ]\n",
    "\n",
    "    }\n",
    "    output = open('GeoJson.json','w')\n",
    "    json.dump(gjson,output)#Writes out the GeoJson data\n",
    "\n",
    "out = dfufogeo.to_json(orient ='records')\n",
    "\n",
    "with open ('UFOjson.json','w') as f:\n",
    "    f.write(out)\n",
    "\n"
   ]
  },
  {
   "cell_type": "code",
   "execution_count": 191,
   "metadata": {},
   "outputs": [],
   "source": [
    "with open('UFOjson.json' ) as fo:\n",
    "    data = json.load(fo)    \n",
    "retdfUFOJson(data)"
   ]
  },
  {
   "cell_type": "markdown",
   "metadata": {},
   "source": [
    "## Section for the Routes\n"
   ]
  },
  {
   "cell_type": "code",
   "execution_count": null,
   "metadata": {},
   "outputs": [],
   "source": [
    "@app.route('/')\n",
    "def init():\n",
    "    dfc=pd.read_csv('UFO_Narratives.csv')\n",
    "    \n",
    "# Returns\n",
    "@app.route('/api_gettext_v1.1 <index>')\n",
    "    return dfc[index]['text']\n",
    "\n",
    "    "
   ]
  }
 ],
 "metadata": {
  "file_extension": ".py",
  "kernelspec": {
   "display_name": "Python 3",
   "language": "python",
   "name": "python3"
  },
  "language_info": {
   "codemirror_mode": {
    "name": "ipython",
    "version": 3
   },
   "file_extension": ".py",
   "mimetype": "text/x-python",
   "name": "python",
   "nbconvert_exporter": "python",
   "pygments_lexer": "ipython3",
   "version": "3.7.3"
  },
  "mimetype": "text/x-python",
  "name": "python",
  "npconvert_exporter": "python",
  "pygments_lexer": "ipython3",
  "version": 3
 },
 "nbformat": 4,
 "nbformat_minor": 4
}
